{
 "cells": [
  {
   "cell_type": "markdown",
   "metadata": {},
   "source": [
    "## Mini Bioinformatics Project: \n",
    "\n",
    "The genetic code of all living organisms are represented by a long sequence of simple molecules called nucleotides, or bases, which makes up the Deoxyribonucleic acid, better known as DNA. There are only four such nucleotides, and the entire genetic code of a human can be seen as a simple, though 3 billion long, string of the letters A, C, G, and T. Analyzing DNA data to gain increased biological understanding is much about searching in (long) strings for certain string patterns involving the letters A, C, G, and T. This is an integral part of bioinformatics, a scientific discipline addressing the use of computers to search for, explore, and use information about genes, nucleic acids, and proteins."
   ]
  },
  {
   "cell_type": "markdown",
   "metadata": {},
   "source": [
    "** FASTQ ** format is a text-based format for storing both a biological sequence (usually nucleotide sequence) and its corresponding quality scores. Both the sequence letter and quality score are each encoded with a single ASCII character for brevity.\n",
    "\n",
    "A FASTQ file normally uses four lines per sequence.\n",
    "* Line 1 begins with a '@' character and is followed by a sequence identifier and an optional description (like a FASTA title line).\n",
    "* Line 2 is the raw sequence letters.\n",
    "* Line 3 begins with a '+' character and is optionally followed by the same sequence identifier (and any description) again.\n",
    "* Line 4 encodes the quality values for the sequence in Line 2, and must contain the same number of symbols as letters in the sequence."
   ]
  },
  {
   "cell_type": "code",
   "execution_count": 61,
   "metadata": {},
   "outputs": [
    {
     "name": "stdout",
     "output_type": "stream",
     "text": [
      "@HWI-M20149:202:000000000-AF422:1:1101:16309:1827 2:N:0:CAAATTCGGGAT\r\n",
      "CCTGTTTGCTCCCCTCGCTTTCGTACCTCAGCGTCCATTCTTGTCCAGTCAGTCGCCTTCGCCACTGGTGTTCTTCCGTATATCTACGACTTTCACCTCTACACTCGGAATTCCACTCTCCTCTCCTATCTTCTAGCTATCTCGTTTCAATGGCTGTTCTGGCGTTGAGCTCCTGGCTTTCCCCTCTGACTTGATTATCCTCCTACGTACTCTTTACGCCCACTCCTTCCTATTCTCGCTTGCTTCCTCCT\r\n",
      "+\r\n",
      "AAA1>FD1BFFFGG1A1EFGGGEB00AGF111AAA0/D222A1DB121D111B1AA/AEH/EE//AB>F0BEH@F2@/10B1BFG21///?EGF2F1FGH1B10>0////?FE121>01BBBGGF011211BF>221>22<120?<?F22221<0/?<1<111/?<-.1<<1<110<<CCG00C<.<0=GGD<00:000;0:/::::.0:::0BF####################################\r\n"
     ]
    }
   ],
   "source": [
    "!head -4 DNA.fastq"
   ]
  },
  {
   "cell_type": "markdown",
   "metadata": {},
   "source": [
    "## Steps to complete the project: \n",
    "\n",
    "* #### Read sequence from a file (DNA.fastq)\n",
    "* #### Create an array for sequence data \n",
    "* #### Calcuate counts for each necleotide (A, C, G, T)\n",
    "* #### Plot necleotide base counts\n",
    "* #### Calcuate frequency of each necleotide (A, C, G, T)\n",
    "* #### Plot necleotide base frequency    "
   ]
  },
  {
   "cell_type": "code",
   "execution_count": 1,
   "metadata": {},
   "outputs": [],
   "source": [
    "import numpy as np\n",
    "import matplotlib.pyplot as plt"
   ]
  },
  {
   "cell_type": "markdown",
   "metadata": {},
   "source": [
    "### Extract sequence from file"
   ]
  },
  {
   "cell_type": "code",
   "execution_count": 52,
   "metadata": {},
   "outputs": [
    {
     "name": "stdout",
     "output_type": "stream",
     "text": [
      "['CCTGTTTGCTCCCCTCGCTTTCGTACCTCAGCGTCCATTCTTGTCCAGTCAGTCGCCTTCGCCACTGGTGTTCTTCCGTATATCTACGACTTTCACCTCTACACTCGGAATTCCACTCTCCTCTCCTATCTTCTAGCTATCTCGTTTCAATGGCTGTTCTGGCGTTGAGCTCCTGGCTTTCCCCTCTGACTTGATTATCCTCCTACGTACTCTTTACGCCCACTCCTTCCTATTCTCGCTTGCTTCCTCCT\\n', 'CCTCTTCGCTCCCCTCGCTTTCGTCCCTCAGCGTCAGTTTTGGCCCAGTAGCCTGCCTTCGCCATCGGTGTTCTTTCTCATCTCTGTGCATTTCACCGCTCCACTACGTATTCCCTTTACCTCTACTGTCTTCTAGACCTCTAGTTTCCTTCTCCCTTTTCCCATTCGACCCCTGGCTTTCGCCAGTTGCTTTTCTGCCCCCCTTACCACCCTTTCAACCCCATTCATCCCGATCACGCCTGCCACCTCCT\\n', 'CCCGTTTGCTCCCCTAGCTGTCGTCTCTGAGTGTCAGTTTTGGCCCCGTAGTGTGCCTTCGCCCTTGTTGTTCTTCCTAATATCTTCTCATTTCACCGCTACCCTAGGCCTTCCCTCTACCTCTCCCACCCTCTCGTCTAGCAGTTTCCACTTCTTTTCTGGTTTTCAGCCCCATTCTTTAACATCTGTCTTACTACACATCCTCCATCCTCTTTATTCCCATTTCTTCCTTTTTACTCTTCCATCCTCTT\\n', 'CCTGTTTGCTACCCACACTTTCGTTCCTCAACGTCAGTTGTTTATAAAAAGTTGTCTTTGCCTACGATATTTCTCTATGTATACACAGACTTTACCCCTACTCATAAAATTTTACTTTTCTATTATCAACTCTAGTATATCAGTATTAAACATTTAATTAAAGTTAAGTTTTAAAATTTAATATTTAACTTAAAATACCGTCTACGAACCCTTTTCGCACAATTATTTCGAATAACACATGTATCCTACGT\\n', 'CCCATTTGCTACCCTAGCTTTCGTCTCTGAGTGTTAGTATTAGCCCAGTAAAGTGCTTTCGCCATCGGTGTTCTTTCCAATCTCTACGCATTTCACCGCTCCCCTGGTAATTCCCTTTCCCTCTACTATACTCTCGTCTACTAGTTTCGACTGCGATTTTTATGTTTATCCTCTTGATTTATCATTTGTCTTATTAATCCTCCTACAGTCTCTTTACTCTCCTTTATTCCTTTTTTCTCTTGCATCCTCCT\\n', 'CCTTTTTTCTCATCTTTCTTTCTTTTCTCCTTTTCCTTTTTTTTCCCTTTTTCTTCTTTCTCTCTTTTTTTTCTTTCTTCTCTCTCCTCCTTTTCCCTCTCCCCTTTTCCTTCTCTCCTCCTCTCTTCTCTTCTCTTTCTCTCTTTTTCCTTTCCTTTTTCTTTTTCCTCCTTCTTTTTTCCCACTTTGTTTCTTTCTTCTTTTTCATTCTCTTTTCTACTCTTTCTTCTTTCTTTTTCTTCTCTCTTCTT\\n', 'CCTGTTCGCTCCCCACGCTTTCGCTCCTCAGCGTCAGTATCGGCCCAGAGACCCGCCTTCGCCACCGGTGTTCCTCTGATACTCGCGCACTTCACCGGCACACCAGGAAGTTCAGTCTCCCCCGCCCCACTTCAGTCTGCCCGTATTGACTGCCGGCCCGCCGTTGAGGCCCGGGGTTTTCCAGCCGACCCGCCAGCCCCCCCTCGGCCCCCTTACGTCAGCTAACTTCGGCCCACGCCTGCACTCCACGC\\n', 'CCCATTTGCTCCCCTAGCTGTCGTCTCTCAGTGTCAGTTATGGTCCAGTAGAGTGCCTTCGCCATTGGTGTTCTTCCTAATATCTACGCATTTCACCGCTACACTAGGAATTCCCTCTACCTCTACCACACTCAAGTCTGGCAGTTTCCACTGCTTTTCTGGGGTTGAGCCCCAGTCTTTAACAGCAGACTTACCAAACCACCTACAGACGCTTTATGCCCAGTGATTCCGGATACAGCGTGCATCGTCTG\\n', 'CCTATTTGCTCCCCTCGCTGTCGTCTCTCAGTGTCAGTTATGGTCCAGTAGAGTGCCTTCGCCATTGGTGTTCTTCCTACTATCTACGCATTTCACCGCTACACTAGGAATTCCCTCTTCCTCTACCACACTCTCTTCTGGCCGTTTCCACTGCTTTTCTGTGGTTGCGCCCCCGTCTTTCACATCCGACTTACCCTACCACCTACAGACTCTTTCTGCCCAGTTCTTTCTGATTTCTCTTTCCTTCTCTT\\n', 'CCTGTTTGCTACCGACACTTTCGTCCCTCAACGTCAGTTGTTTATAAAAAGTTGCCTTCGCTAATTGATATTCCTATATGTATTTACAGATTTTATCCCTCCCATTAAAATTCAATTTTTTTATTACCACTTCTGGTAAAAAGTATTAAATTTAAAATTTAAGGTTAGGTTTAAAAATTTTTAATTAACATTAAATAACCGCCTCGAAACCTTTTAGGCCAATTAATTCGAAAAAAGCCATGCATTTTCTT\\n']\n"
     ]
    }
   ],
   "source": [
    "seq_list = []\n",
    "with open('DNA.fastq','r') as f:\n",
    "    content=f.readlines()\n",
    "\n",
    "for i, line in enumerate(content):\n",
    "    if i % 4 == 1:\n",
    "        seq_list.append(line)\n",
    "           \n",
    "print(seq_list)  \n",
    "       "
   ]
  },
  {
   "cell_type": "markdown",
   "metadata": {},
   "source": [
    "### Count nucleotides "
   ]
  },
  {
   "cell_type": "code",
   "execution_count": 56,
   "metadata": {},
   "outputs": [],
   "source": [
    "# A function to count occurances by a single base\n",
    "def count(dna, base):\n",
    "    m = []   # matches for base in dna: m[i]=True if dna[i]==base\n",
    "    for c in dna:\n",
    "        m.append(c == base)\n",
    "    return sum(m)\n"
   ]
  },
  {
   "cell_type": "code",
   "execution_count": 7,
   "metadata": {},
   "outputs": [
    {
     "data": {
      "text/plain": [
       "28"
      ]
     },
     "execution_count": 7,
     "metadata": {},
     "output_type": "execute_result"
    }
   ],
   "source": [
    "count(seq_list[1], 'A')"
   ]
  },
  {
   "cell_type": "code",
   "execution_count": 18,
   "metadata": {},
   "outputs": [],
   "source": [
    "# A function to count occurances of all 4 bases\n",
    "# input: list of dna\n",
    "# output: lists of A, C, G, T count\n",
    "def freq_lists(dna_list):\n",
    "    dna_count= len(dna_list)\n",
    "    A = [0 for x in range(dna_count)]\n",
    "    T = [0 for x in range(dna_count)]\n",
    "    G = [0 for x in range(dna_count)]\n",
    "    C = [0 for x in range(dna_count)]\n",
    "    seq_index = 0\n",
    "    for dna in dna_list:\n",
    "        for index, base in enumerate(dna):\n",
    "            if base == 'A':\n",
    "                A[seq_index] +=1\n",
    "            elif base == 'C':\n",
    "                C[seq_index] += 1\n",
    "            elif base == 'G':\n",
    "                G[seq_index] += 1\n",
    "            elif base == 'T':\n",
    "                T[seq_index] += 1\n",
    "            elif base == '\\n':\n",
    "                break\n",
    "        seq_index +=1        \n",
    "    return A, C, G, T"
   ]
  },
  {
   "cell_type": "code",
   "execution_count": 115,
   "metadata": {},
   "outputs": [
    {
     "name": "stdout",
     "output_type": "stream",
     "text": [
      "A [30, 28, 30, 78, 39, 4, 33, 50, 33, 80]\n",
      "C [92, 105, 92, 53, 75, 85, 113, 79, 89, 47]\n",
      "G [36, 32, 28, 22, 29, 1, 55, 47, 36, 27]\n",
      "T [93, 86, 101, 98, 108, 161, 50, 75, 93, 97]\n"
     ]
    }
   ],
   "source": [
    "A, C, G, T = freq_lists(seq_list)\n",
    "print('A', A)\n",
    "print('C', C)\n",
    "print('G', G)\n",
    "print('T', T)\n"
   ]
  },
  {
   "cell_type": "code",
   "execution_count": 118,
   "metadata": {},
   "outputs": [
    {
     "name": "stdout",
     "output_type": "stream",
     "text": [
      "[[ 30  28  30  78  39   4  33  50  33  80]\n",
      " [ 92 105  92  53  75  85 113  79  89  47]\n",
      " [ 36  32  28  22  29   1  55  47  36  27]\n",
      " [ 93  86 101  98 108 161  50  75  93  97]]\n",
      "after transpose\n",
      " [[ 30  92  36  93]\n",
      " [ 28 105  32  86]\n",
      " [ 30  92  28 101]\n",
      " [ 78  53  22  98]\n",
      " [ 39  75  29 108]\n",
      " [  4  85   1 161]\n",
      " [ 33 113  55  50]\n",
      " [ 50  79  47  75]\n",
      " [ 33  89  36  93]\n",
      " [ 80  47  27  97]]\n"
     ]
    }
   ],
   "source": [
    "# ceate a numpy array from list A,C,G,T for easy numpy operations\n",
    "seq_array_init = np.array((A+C+G+T), dtype=int).reshape(4,-1)\n",
    "print(seq_array_init)\n",
    "\n",
    "# A transpose of the initial array, where row=(each sequence), col=(A, C, G, T)\n",
    "seq_array = seq_array_init.T\n",
    "print(\"after transpose\\n\", seq_array)\n"
   ]
  },
  {
   "cell_type": "markdown",
   "metadata": {},
   "source": [
    "### Calculate mean, standard deviation of  A, C, G, T counts, plot a bar chart"
   ]
  },
  {
   "cell_type": "code",
   "execution_count": 124,
   "metadata": {},
   "outputs": [
    {
     "name": "stdout",
     "output_type": "stream",
     "text": [
      "means [40.5 83.  31.3 96.2]\n",
      "std: [22.0918537  19.65197191 13.75536259 26.59624034]\n"
     ]
    },
    {
     "data": {
      "image/png": "[encoded data removed]",
      "text/plain": [
       "<Figure size 432x288 with 1 Axes>"
      ]
     },
     "metadata": {},
     "output_type": "display_data"
    }
   ],
   "source": [
    "# a.mean(axis=None, dtype=None, out=None, keepdims=False)\n",
    "# 0 is for column, 1 is for row\n",
    "means = seq_array.mean(0)\n",
    "std = seq_array.std(0)\n",
    "x = [i for i in range(4)]\n",
    "#x=[4,3,2,1]\n",
    "xlables = ['A','C','G','T']\n",
    "print(\"means\", means); print(\"std:\",std)\n",
    "plt.bar(x, means, color='r')\n",
    "plt.errorbar(x, means, yerr=std, fmt='v', capsize=10)\n",
    "plt.xticks(x, xlables)\n",
    "plt.title('Nucleotides Counts')\n",
    "plt.xlabel('Nucleotides')\n",
    "plt.ylabel('Base Counts')\n",
    "plt.show()"
   ]
  },
  {
   "cell_type": "markdown",
   "metadata": {},
   "source": [
    "### Calculate frequency of  A, C, G, T "
   ]
  },
  {
   "cell_type": "code",
   "execution_count": 122,
   "metadata": {},
   "outputs": [
    {
     "name": "stdout",
     "output_type": "stream",
     "text": [
      "[[0.11952191 0.36653386 0.14342629 0.37051793]\n",
      " [0.11155378 0.41832669 0.12749004 0.34262948]\n",
      " [0.11952191 0.36653386 0.11155378 0.40239044]\n",
      " [0.31075697 0.21115538 0.0876494  0.39043825]\n",
      " [0.15537849 0.29880478 0.11553785 0.43027888]\n",
      " [0.01593625 0.33864542 0.00398406 0.64143426]\n",
      " [0.1314741  0.4501992  0.21912351 0.19920319]\n",
      " [0.19920319 0.31474104 0.187251   0.29880478]\n",
      " [0.1314741  0.35458167 0.14342629 0.37051793]\n",
      " [0.3187251  0.187251   0.10756972 0.38645418]]\n"
     ]
    }
   ],
   "source": [
    "# calculate A, C, G, T frequency\n",
    "\n",
    "def frequency(dna):\n",
    "    \n",
    "    seq_array_feq = np.zeros((10,4), dtype=float)\n",
    "    for i in range(dna.shape[0]):\n",
    "        # sum of a row (one sequency)\n",
    "        sum_per_seq = sum(dna[i, :])  \n",
    "        for j in range(dna.shape[1]):\n",
    "            seq_array_feq[i,j] = dna[i,j]/sum_per_seq\n",
    "    return seq_array_feq\n",
    "\n",
    "seq_array_feq = frequency(seq_array)\n",
    "print(seq_array_feq)\n",
    "    "
   ]
  },
  {
   "cell_type": "code",
   "execution_count": 125,
   "metadata": {},
   "outputs": [
    {
     "name": "stdout",
     "output_type": "stream",
     "text": [
      "means [0.16135458 0.33067729 0.1247012  0.38326693]\n",
      "std: [0.08801535 0.07829471 0.05480224 0.10596112]\n"
     ]
    },
    {
     "data": {
      "image/png": "[encoded data removed]",
      "text/plain": [
       "<Figure size 432x288 with 1 Axes>"
      ]
     },
     "metadata": {},
     "output_type": "display_data"
    }
   ],
   "source": [
    "\n",
    "means = seq_array_feq.mean(0)\n",
    "std = seq_array_feq.std(0)\n",
    "x = [i for i in range(4)]\n",
    "#x=[4,3,2,1]\n",
    "xlables = ['A','C','G','T']\n",
    "print('means',means); print(\"std:\",std)\n",
    "plt.bar(x, means, color='r')\n",
    "plt.errorbar(x, means, yerr=std, fmt='v', capsize=10)\n",
    "plt.xticks(x, xlables)\n",
    "plt.title('Nucleotides Frequency')\n",
    "plt.xlabel('Nucleotides')\n",
    "plt.ylabel('Base Counts')\n",
    "plt.show()"
   ]
  },
  {
   "cell_type": "code",
   "execution_count": null,
   "metadata": {},
   "outputs": [],
   "source": []
  }
 ],
 "metadata": {
  "kernelspec": {
   "display_name": "Python 3",
   "language": "python",
   "name": "python3"
  },
  "language_info": {
   "codemirror_mode": {
    "name": "ipython",
    "version": 3
   },
   "file_extension": ".py",
   "mimetype": "text/x-python",
   "name": "python",
   "nbconvert_exporter": "python",
   "pygments_lexer": "ipython3",
   "version": "3.7.0"
  }
 },
 "nbformat": 4,
 "nbformat_minor": 2
}
