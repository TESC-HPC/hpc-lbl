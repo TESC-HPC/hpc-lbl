{
 "cells": [
  {
   "cell_type": "markdown",
   "metadata": {},
   "source": [
    "## Mini Bioinformatics Project: \n",
    "\n",
    "The genetic code of all living organisms are represented by a long sequence of simple molecules called nucleotides, or bases, which makes up the deoxyribonucleic acid, better known as DNA. There are only four such nucleotides, and the entire genetic code of a human can be seen as a simple, though 3 billion long, string of the letters A, C, G, and T. Analyzing DNA data to gain increased biological understanding is much about searching in (long) strings for certain string patterns involving the letters A, C, G, and T. This is an integral part of bioinformatics, a scientific discipline addressing the use of computers to search for, explore, and use information about genes, nucleic acids, and proteins."
   ]
  },
  {
   "cell_type": "markdown",
   "metadata": {},
   "source": [
    "** FASTQ ** format is a text-based format for storing both a biological sequence (usually nucleotide sequence) and its corresponding quality scores. Both the sequence letter and quality score are each encoded with a single ASCII character for brevity.\n",
    "\n",
    "A FASTQ file normally uses four lines per sequence.\n",
    "* Line 1 begins with a '@' character and is followed by a sequence identifier and an optional description (like a FASTA title line).\n",
    "* Line 2 is the raw sequence letters.\n",
    "* Line 3 begins with a '+' character and is optionally followed by the same sequence identifier (and any description) again.\n",
    "* Line 4 encodes the quality values for the sequence in Line 2, and must contain the same number of symbols as letters in the sequence."
   ]
  },
  {
   "cell_type": "code",
   "execution_count": 9,
   "metadata": {},
   "outputs": [
    {
     "name": "stdout",
     "output_type": "stream",
     "text": [
      "@HWI-M20149:202:000000000-AF422:1:1101:16309:1827 2:N:0:CAAATTCGGGAT\n",
      "CCTGTTTGCTCCCCTCGCTTTCGTACCTCAGCGTCCATTCTTGTCCAGTCAGTCGCCTTCGCCACTGGTGTTCTTCCGTATATCTACGACTTTCACCTCTACACTCGGAATTCCACTCTCCTCTCCTATCTTCTAGCTATCTCGTTTCAATGGCTGTTCTGGCGTTGAGCTCCTGGCTTTCCCCTCTGACTTGATTATCCTCCTACGTACTCTTTACGCCCACTCCTTCCTATTCTCGCTTGCTTCCTCCT\n",
      "+\n",
      "AAA1>FD1BFFFGG1A1EFGGGEB00AGF111AAA0/D222A1DB121D111B1AA/AEH/EE//AB>F0BEH@F2@/10B1BFG21///?EGF2F1FGH1B10>0////?FE121>01BBBGGF011211BF>221>22<120?<?F22221<0/?<1<111/?<-.1<<1<110<<CCG00C<.<0=GGD<00:000;0:/::::.0:::0BF####################################\n",
      "@HWI-M20149:202:000000000-AF422:1:1101:14316:1930 2:N:0:CAAATTCGGGAT\n",
      "CCTCTTCGCTCCCCTCGCTTTCGTCCCTCAGCGTCAGTTTTGGCCCAGTAGCCTGCCTTCGCCATCGGTGTTCTTTCTCATCTCTGTGCATTTCACCGCTCCACTACGTATTCCCTTTACCTCTACTGTCTTCTAGACCTCTAGTTTCCTTCTCCCTTTTCCCATTCGACCCCTGGCTTTCGCCAGTTGCTTTTCTGCCCCCCTTACCACCCTTTCAACCCCATTCATCCCGATCACGCCTGCCACCTCCT\n",
      "+\n",
      "AA>1>F1AAA1AF111AFG0AGEBA0EHHBG1BAAAEH2220/1A/BFFB1111BF0BFHHGEE/1BEE/EEHG112@22B@BGH12BGBGHGFBG1EEG//B0100/0BBGF>111B1BG1GFBB21BG2BG2B22<1111@@G2>221211110?11111111?111<--...<<<CFD######################################################################\n",
      "      40 DNA.fastq\n"
     ]
    }
   ],
   "source": [
    "!head -8 DNA.fastq\n",
    "!wc -l DNA.fastq"
   ]
  },
  {
   "cell_type": "markdown",
   "metadata": {},
   "source": [
    "## Steps to complete the project: \n",
    "\n",
    "*  #### Read sequence from a file (DNA.fastq)\n",
    "* #### Create an array for sequence data \n",
    "* #### Calcuate counts for each necleotide (A, C, G, T)\n",
    "* #### Plot necleotide base counts\n",
    "* #### Calcuate frequency of each necleotide (A, C, G, T)\n",
    "* #### Plot necleotide base frequency    "
   ]
  },
  {
   "cell_type": "code",
   "execution_count": 3,
   "metadata": {},
   "outputs": [],
   "source": [
    "import numpy as np\n",
    "import matplotlib.pyplot as plt"
   ]
  },
  {
   "cell_type": "markdown",
   "metadata": {},
   "source": [
    "### Extract sequence from file"
   ]
  },
  {
   "cell_type": "markdown",
   "metadata": {},
   "source": [
    "<font color=red>\n",
    "#### Blank 1: Read DNA.fastq information into a list"
   ]
  },
  {
   "cell_type": "code",
   "execution_count": null,
   "metadata": {},
   "outputs": [],
   "source": [
    "# open \"DNA.fastq\" to read into a list\n",
    "# readlines() is a function to read all lines from a file\n",
    "seq_list = []\n",
    "with open('DNA.fastq','r') as f:\n",
    "    content=f.readlines()\n",
    "# only 2nd line has DNA sequence for every 4 lines\n",
    "for i, line in enumerate(content):\n",
    "    ????\n",
    "           \n",
    "print(seq_list)  \n",
    "       "
   ]
  },
  {
   "cell_type": "markdown",
   "metadata": {},
   "source": [
    "### Count nucleotides "
   ]
  },
  {
   "cell_type": "code",
   "execution_count": 56,
   "metadata": {},
   "outputs": [],
   "source": [
    "# A function to count occurances by a single base\n",
    "def count(dna, base):\n",
    "    m = []   # matches for base in dna: m[i]=True if dna[i]==base\n",
    "    for c in dna:\n",
    "        m.append(c == base)\n",
    "    return sum(m)\n"
   ]
  },
  {
   "cell_type": "code",
   "execution_count": 7,
   "metadata": {},
   "outputs": [
    {
     "data": {
      "text/plain": [
       "28"
      ]
     },
     "execution_count": 7,
     "metadata": {},
     "output_type": "execute_result"
    }
   ],
   "source": [
    "count(seq_list[1], 'A')"
   ]
  },
  {
   "cell_type": "code",
   "execution_count": 18,
   "metadata": {},
   "outputs": [],
   "source": [
    "# A function to count occurances of all 4 bases\n",
    "# input: list of dna\n",
    "# output: lists of A, C, G, T count\n",
    "def freq_lists(dna_list):\n",
    "    dna_count= len(dna_list)\n",
    "    A = [0 for x in range(dna_count)]\n",
    "    T = [0 for x in range(dna_count)]\n",
    "    G = [0 for x in range(dna_count)]\n",
    "    C = [0 for x in range(dna_count)]\n",
    "    seq_index = 0\n",
    "    for dna in dna_list:\n",
    "        for index, base in enumerate(dna):\n",
    "            if base == 'A':\n",
    "                A[seq_index] +=1\n",
    "            elif base == 'C':\n",
    "                C[seq_index] += 1\n",
    "            elif base == 'G':\n",
    "                G[seq_index] += 1\n",
    "            elif base == 'T':\n",
    "                T[seq_index] += 1\n",
    "            elif base == '\\n':\n",
    "                break\n",
    "        seq_index +=1        \n",
    "    return A, C, G, T"
   ]
  },
  {
   "cell_type": "raw",
   "metadata": {},
   "source": [
    "A, C, G, T = freq_lists(seq_list)\n",
    "print('A', A)\n",
    "print('C', C)\n",
    "print('G', G)\n",
    "print('T', T)\n"
   ]
  },
  {
   "cell_type": "markdown",
   "metadata": {},
   "source": [
    "<font color=red>\n",
    "#### Blank 2: Reshape seq_list into an numpy array seq_array"
   ]
  },
  {
   "cell_type": "code",
   "execution_count": null,
   "metadata": {},
   "outputs": [],
   "source": [
    "# ceate a numpy array from list A,C,G,T for easy numpy operations\n",
    "seq_array_init = np.array(???).reshape(4,-1)\n",
    "\n",
    "print(seq_array_init)\n",
    "\n",
    "# A transpose of the initial array, where row=(each sequence), col=(A, C, G, T)\n",
    "seq_array = seq_array_init.???\n",
    "\n",
    "print(\"after transpose\\n\", seq_array)\n"
   ]
  },
  {
   "cell_type": "markdown",
   "metadata": {},
   "source": [
    "### Calculate mean, standard deviation of  A, C, G, T counts, plot a bar chart"
   ]
  },
  {
   "cell_type": "markdown",
   "metadata": {},
   "source": [
    "<font color=red>\n",
    "#### Blank 3: Calculate mean, standard deviation of  A, C, G, T counts, plot a bar chart"
   ]
  },
  {
   "cell_type": "code",
   "execution_count": null,
   "metadata": {},
   "outputs": [],
   "source": [
    "# a.mean(axis=None, dtype=None, out=None, keepdims=False)\n",
    "# 0 is for column, 1 is for row\n",
    "????\n",
    "\n",
    "\n"
   ]
  },
  {
   "cell_type": "markdown",
   "metadata": {},
   "source": [
    "### Calculate frequency of  A, C, G, T "
   ]
  },
  {
   "cell_type": "code",
   "execution_count": null,
   "metadata": {},
   "outputs": [],
   "source": [
    "# calculate A, C, G, T frequency\n",
    "\n",
    "def frequency(dna):\n",
    "    \n",
    "    seq_array_feq = np.zeros((10,4), dtype=float)\n",
    "    for i in range(dna.shape[0]):\n",
    "        # sum of a row (one sequency)\n",
    "        sum_per_seq = sum(dna[i, :])  \n",
    "        for j in range(dna.shape[1]):\n",
    "            seq_array_feq[i,j] = dna[i,j]/sum_per_seq\n",
    "    return seq_array_feq\n",
    "\n",
    "seq_array_feq = frequency(seq_array)\n",
    "print(seq_array_feq)\n",
    "    "
   ]
  },
  {
   "cell_type": "markdown",
   "metadata": {},
   "source": [
    "### Calculate mean, standard deviation of  A, C, G, T frequency, plot a bar chart"
   ]
  },
  {
   "cell_type": "markdown",
   "metadata": {},
   "source": [
    "<font color=red>\n",
    "#### Blank 3: Calculate mean, standard deviation of  A, C, G, T counts, plot a bar chart"
   ]
  },
  {
   "cell_type": "code",
   "execution_count": null,
   "metadata": {},
   "outputs": [],
   "source": [
    "\n",
    "means ?\n",
    "std = ?\n",
    "x = "
   ]
  }
 ],
 "metadata": {
  "kernelspec": {
   "display_name": "Python 3",
   "language": "python",
   "name": "python3"
  },
  "language_info": {
   "codemirror_mode": {
    "name": "ipython",
    "version": 3
   },
   "file_extension": ".py",
   "mimetype": "text/x-python",
   "name": "python",
   "nbconvert_exporter": "python",
   "pygments_lexer": "ipython3",
   "version": "3.7.0"
  }
 },
 "nbformat": 4,
 "nbformat_minor": 2
}
