{
 "cells": [
  {
   "cell_type": "markdown",
   "metadata": {},
   "source": [
    "\n",
    " #  Python Programming\n",
    "##  TechWomen@lbl October 2018 \n",
    "##  High Performance Computing at Berkeley Lab\n"
   ]
  },
  {
   "cell_type": "markdown",
   "metadata": {},
   "source": [
    "### You can access this service via _[lrc-jupyter.lbl.gov](https://lrc-jupyter.lbl.gov)_\n"
   ]
  },
  {
   "cell_type": "markdown",
   "metadata": {},
   "source": [
    "<a id='top1'></a>\n",
    "## Topics Covered\n",
    "\n",
    " * [What is Python](#intro)\n",
    " * [Python programming basics](#data-type)\n",
    " * [Control structures and functions](#control)\n",
    " * [Python modules](#module)\n",
    " * [Numpy](#numpy)\n",
    " * [Plotting](#plot)\n"
   ]
  },
  {
   "cell_type": "markdown",
   "metadata": {},
   "source": [
    "<a id='intro'></a>\n",
    "## What is Python?\n",
    "\n",
    " * A general-purpose programming language (1980) by Guido van Rossum\n",
    " * Intuitive and minimal coding\n",
    " * Objected-Oriented\n",
    " * Interpreted not compiled\n",
    " * Interactive\n",
    " * Dynamically typed, no type declarations, data type is tracked at runtime\n",
    " * Automatic memory management\n",
    "  <br>"
   ]
  },
  {
   "cell_type": "markdown",
   "metadata": {},
   "source": [
    "## What is IPython?\n",
    "\n",
    " IPython: an interactive command shell for Python (2001) by Fernando Perez\n",
    "* Enhanced Read-Eval-Print Loop (REPL) environment\n",
    "* Command tab-completion, color-highlighted error messages..\n",
    "* Basic Linux shell integration (cp, ls, rm…)\n",
    "* Great for plotting!\n",
    "* More information click _[ipython.org](http://ipython.org)_\n"
   ]
  },
  {
   "cell_type": "markdown",
   "metadata": {},
   "source": [
    "## Jupyter Notebook \n",
    "\n",
    "* Web interface to Python, introduced in 2015 \n",
    "* Rich text, improved graphical capabilities\n",
    "* Integrate many existing web libraries for data visualization\n",
    "* Allow to create and share documents that contain live code, equations, visualizations and explanatory text. \n",
    "* Interface with over 40 languages, such as R, Julia and Scala\n",
    "[back to top](#top1)\n",
    "\n",
    "\n"
   ]
  },
  {
   "cell_type": "markdown",
   "metadata": {},
   "source": [
    "## Variables \n",
    "\n",
    "* Variable type is dynamically determined from the value it is assigned, no data type is declared\n",
    "* Assign meaningful variable names\n",
    "* Some keywords are reserved such as ‘print’, ‘assert’,  ‘while’, ‘lambda’. \n",
    "* A variable is assigned using the ‘=’ operator \n",
    "* Reference of [keys words](https://docs.python.org/2.5/ref/keywords.html)\n"
   ]
  },
  {
   "cell_type": "markdown",
   "metadata": {},
   "source": [
    "## Operators \n",
    "\n",
    "* Arithmetic operators +, -, *, /, // (integer division for  floating point numbers), ’**’ power\n",
    "* Boolean operators and, or and not\n",
    "* Comparison operators >, <, >= (greater or equal), <=\n",
    "* (less or equal), == equality\n",
    "\n"
   ]
  },
  {
   "cell_type": "markdown",
   "metadata": {},
   "source": [
    "<a id='data-type'></a>\n",
    "## Build-in Data Types   \n",
    "* [Number](#numbers)\n",
    "* [String](#string)\n",
    "* [List](#list)\n",
    "* [Tuple](#tuple)\n",
    "* [Dictionary](#dic)\n",
    "* [File](#file)    \n",
    " [top](#top1)"
   ]
  },
  {
   "cell_type": "markdown",
   "metadata": {},
   "source": [
    "<a id='numbers'></a>\n",
    "## Numbers"
   ]
  },
  {
   "cell_type": "code",
   "execution_count": 1,
   "metadata": {},
   "outputs": [
    {
     "data": {
      "text/plain": [
       "int"
      ]
     },
     "execution_count": 1,
     "metadata": {},
     "output_type": "execute_result"
    }
   ],
   "source": [
    "x = 3\n",
    "type(x)"
   ]
  },
  {
   "cell_type": "code",
   "execution_count": 2,
   "metadata": {},
   "outputs": [
    {
     "data": {
      "text/plain": [
       "float"
      ]
     },
     "execution_count": 2,
     "metadata": {},
     "output_type": "execute_result"
    }
   ],
   "source": [
    "y = 3.0\n",
    "type (y)"
   ]
  },
  {
   "cell_type": "code",
   "execution_count": 3,
   "metadata": {},
   "outputs": [
    {
     "data": {
      "text/plain": [
       "str"
      ]
     },
     "execution_count": 3,
     "metadata": {},
     "output_type": "execute_result"
    }
   ],
   "source": [
    "z='hello'\n",
    "type(z)"
   ]
  },
  {
   "cell_type": "code",
   "execution_count": 4,
   "metadata": {},
   "outputs": [
    {
     "data": {
      "text/plain": [
       "3"
      ]
     },
     "execution_count": 4,
     "metadata": {},
     "output_type": "execute_result"
    }
   ],
   "source": [
    "int(3.3)"
   ]
  },
  {
   "cell_type": "code",
   "execution_count": 5,
   "metadata": {},
   "outputs": [
    {
     "data": {
      "text/plain": [
       "(3+0j)"
      ]
     },
     "execution_count": 5,
     "metadata": {},
     "output_type": "execute_result"
    }
   ],
   "source": [
    "complex(3)"
   ]
  },
  {
   "cell_type": "code",
   "execution_count": 6,
   "metadata": {},
   "outputs": [],
   "source": [
    "import math"
   ]
  },
  {
   "cell_type": "code",
   "execution_count": 7,
   "metadata": {},
   "outputs": [
    {
     "data": {
      "text/plain": [
       "3.3"
      ]
     },
     "execution_count": 7,
     "metadata": {},
     "output_type": "execute_result"
    }
   ],
   "source": [
    "abs(-3.3)"
   ]
  },
  {
   "cell_type": "code",
   "execution_count": 8,
   "metadata": {},
   "outputs": [
    {
     "data": {
      "text/plain": [
       "-0.3048106211022167"
      ]
     },
     "execution_count": 8,
     "metadata": {},
     "output_type": "execute_result"
    }
   ],
   "source": [
    "math.sin(60)"
   ]
  },
  {
   "cell_type": "code",
   "execution_count": 9,
   "metadata": {},
   "outputs": [
    {
     "data": {
      "text/plain": [
       "5.0"
      ]
     },
     "execution_count": 9,
     "metadata": {},
     "output_type": "execute_result"
    }
   ],
   "source": [
    "math.sqrt(25)"
   ]
  },
  {
   "cell_type": "markdown",
   "metadata": {},
   "source": [
    "<a id='string'></a>\n",
    "## Strings"
   ]
  },
  {
   "cell_type": "code",
   "execution_count": 10,
   "metadata": {},
   "outputs": [],
   "source": [
    "my_str = 'Hello World'"
   ]
  },
  {
   "cell_type": "code",
   "execution_count": 11,
   "metadata": {},
   "outputs": [
    {
     "name": "stdout",
     "output_type": "stream",
     "text": [
      "Hello World\n"
     ]
    },
    {
     "data": {
      "text/plain": [
       "11"
      ]
     },
     "execution_count": 11,
     "metadata": {},
     "output_type": "execute_result"
    }
   ],
   "source": [
    "print(my_str); len(my_str)"
   ]
  },
  {
   "cell_type": "code",
   "execution_count": 12,
   "metadata": {},
   "outputs": [
    {
     "name": "stdout",
     "output_type": "stream",
     "text": [
      "11\n"
     ]
    }
   ],
   "source": [
    "len(my_str); print(len(my_str))"
   ]
  },
  {
   "cell_type": "code",
   "execution_count": 13,
   "metadata": {},
   "outputs": [
    {
     "name": "stdout",
     "output_type": "stream",
     "text": [
      "H\n",
      "e\n",
      "d\n"
     ]
    }
   ],
   "source": [
    "#indexing starting at 0\n",
    "print(my_str[0]); print(my_str[1]); print(my_str[10])"
   ]
  },
  {
   "cell_type": "code",
   "execution_count": 14,
   "metadata": {},
   "outputs": [
    {
     "name": "stdout",
     "output_type": "stream",
     "text": [
      "ell\n",
      "Hello World\n",
      "ello World\n"
     ]
    }
   ],
   "source": [
    "#string slicing\n",
    "print(my_str[1:4]); print(my_str[:]); print(my_str[1:])"
   ]
  },
  {
   "cell_type": "code",
   "execution_count": 15,
   "metadata": {},
   "outputs": [
    {
     "name": "stdout",
     "output_type": "stream",
     "text": [
      "Hello\n",
      "World\n"
     ]
    }
   ],
   "source": [
    "#string split\n",
    "s1, s2 = my_str.split(); print(s1); print(s2)"
   ]
  },
  {
   "cell_type": "code",
   "execution_count": 16,
   "metadata": {},
   "outputs": [
    {
     "name": "stdout",
     "output_type": "stream",
     "text": [
      "This is a multi-line\n",
      "block of sample\n",
      " text\n"
     ]
    }
   ],
   "source": [
    "#multiple line spanning\n",
    "multilines= \"\"\"This is a multi-line\n",
    "block of sample\n",
    " text\"\"\"\n",
    "print(multilines)\n"
   ]
  },
  {
   "cell_type": "code",
   "execution_count": 17,
   "metadata": {},
   "outputs": [
    {
     "name": "stdout",
     "output_type": "stream",
     "text": [
      "300 pigs in the barn, I’ll huff and puff\n"
     ]
    }
   ],
   "source": [
    "#string formatting\n",
    "text = \"%d pigs in the barn, I’ll %s and %s\" %(300,'huff','puff')\n",
    "print(text)"
   ]
  },
  {
   "cell_type": "code",
   "execution_count": 18,
   "metadata": {},
   "outputs": [
    {
     "name": "stdout",
     "output_type": "stream",
     "text": [
      "my share = 24.50000, tip = 5\n"
     ]
    }
   ],
   "source": [
    "total= \"my share = %.5f, tip = %d\" %(24.5, 5.5)\n",
    "print(total)"
   ]
  },
  {
   "cell_type": "code",
   "execution_count": 19,
   "metadata": {},
   "outputs": [
    {
     "name": "stdout",
     "output_type": "stream",
     "text": [
      "HELLO WORLD\n",
      "False\n",
      "True\n",
      "True\n"
     ]
    }
   ],
   "source": [
    "#more string ops\n",
    "my_str=\"Hello World\"\n",
    "print(my_str.upper())\n",
    "print(my_str.isalpha())\n",
    "print(my_str[0].isalpha())\n",
    "a='12'\n",
    "print(a.isdigit())"
   ]
  },
  {
   "cell_type": "markdown",
   "metadata": {},
   "source": [
    "<a id='list'></a>\n",
    "## Lists\n",
    "* Collection of data [ ]\n",
    "* Often used to store homogeneous values\n",
    "    * e.g., Numbers, names with the same data type\n",
    "* Members are accessed as strings\n",
    "* Mutable: modify in place without creating a new object\n"
   ]
  },
  {
   "cell_type": "code",
   "execution_count": 20,
   "metadata": {},
   "outputs": [
    {
     "name": "stdout",
     "output_type": "stream",
     "text": [
      "[1, 2, 9, 4]\n"
     ]
    }
   ],
   "source": [
    "my_list = [1,2,9,4]\n",
    "print(my_list)\n",
    "#how to find out the data type?"
   ]
  },
  {
   "cell_type": "code",
   "execution_count": 21,
   "metadata": {},
   "outputs": [
    {
     "name": "stdout",
     "output_type": "stream",
     "text": [
      "[-4, 0, 4, 8]\n"
     ]
    }
   ],
   "source": [
    "my_list2 = list(range(-4,10, 4))\n",
    "print(my_list2)"
   ]
  },
  {
   "cell_type": "code",
   "execution_count": 22,
   "metadata": {},
   "outputs": [
    {
     "name": "stdout",
     "output_type": "stream",
     "text": [
      "1st element = 1\n",
      "last element = 4\n"
     ]
    }
   ],
   "source": [
    "# access list members by index \n",
    "# start at 0, end at n-1\n",
    "print(\"1st element =\", my_list[0])\n",
    "print(\"last element =\", my_list[3])"
   ]
  },
  {
   "cell_type": "code",
   "execution_count": 23,
   "metadata": {},
   "outputs": [
    {
     "name": "stdout",
     "output_type": "stream",
     "text": [
      "[1, 2, 9, 4, 1, 2, 9, 4]\n",
      "[1, 2, 9, 4, 1, 2, 9, 4]\n",
      "[1, 2, 9, 4, 1, 2, 9, 4, 1, 2, 9, 4]\n"
     ]
    }
   ],
   "source": [
    "#Contatenate lists\n",
    "print(my_list + my_list)\n",
    "print(my_list *2)\n",
    "print(my_list *3)"
   ]
  },
  {
   "cell_type": "code",
   "execution_count": 24,
   "metadata": {},
   "outputs": [
    {
     "name": "stdout",
     "output_type": "stream",
     "text": [
      "dog\n",
      "cat\n",
      "horse\n"
     ]
    }
   ],
   "source": [
    "# iterate list elements\n",
    "animals = ['dog','cat','horse']\n",
    "for name in animals:\n",
    "    print(name)"
   ]
  },
  {
   "cell_type": "code",
   "execution_count": 25,
   "metadata": {},
   "outputs": [
    {
     "name": "stdout",
     "output_type": "stream",
     "text": [
      "1 dog\n",
      "2 cat\n",
      "3 horse\n"
     ]
    }
   ],
   "source": [
    "for index, name in enumerate(animals):\n",
    "    print(index+1, name)"
   ]
  },
  {
   "cell_type": "code",
   "execution_count": 26,
   "metadata": {},
   "outputs": [
    {
     "name": "stdout",
     "output_type": "stream",
     "text": [
      "[2, 9, 4]\n",
      "[2, 9, 4, 99]\n",
      "[2, 100, 9, 4, 99]\n"
     ]
    }
   ],
   "source": [
    "# modify list\n",
    "del my_list[0]; print(my_list)\n",
    "my_list.append(99); print(my_list)\n",
    "my_list.insert(1, 100); print(my_list)"
   ]
  },
  {
   "cell_type": "code",
   "execution_count": 27,
   "metadata": {},
   "outputs": [
    {
     "name": "stdout",
     "output_type": "stream",
     "text": [
      "[2, 4, 9, 99, 100]\n",
      "[100, 99, 9, 4, 2]\n"
     ]
    }
   ],
   "source": [
    "#some list funs\n",
    "\n",
    "my_list.sort(); print(my_list)\n",
    "my_list.reverse(); print(my_list)"
   ]
  },
  {
   "cell_type": "code",
   "execution_count": 28,
   "metadata": {},
   "outputs": [
    {
     "name": "stdout",
     "output_type": "stream",
     "text": [
      "['cats', 'DOGS', 'SHEEP', 'horses']\n",
      "['DOGS', 'SHEEP', 'cats', 'horses']\n",
      "['horses', 'cats', 'SHEEP', 'DOGS']\n"
     ]
    }
   ],
   "source": [
    "#more sorting\n",
    "my_list = ['cats', 'SHEEP','DOGS','horses']\n",
    "print(sorted(my_list, key=len))\n",
    "print(sorted(my_list))\n",
    "print(sorted(my_list, reverse=True))"
   ]
  },
  {
   "cell_type": "code",
   "execution_count": 29,
   "metadata": {},
   "outputs": [
    {
     "data": {
      "text/plain": [
       "['cats', 'DOGS', 'SHEEP', 'horses']"
      ]
     },
     "execution_count": 29,
     "metadata": {},
     "output_type": "execute_result"
    }
   ],
   "source": [
    "sorted(my_list, key=len)"
   ]
  },
  {
   "cell_type": "code",
   "execution_count": 30,
   "metadata": {},
   "outputs": [
    {
     "data": {
      "text/plain": [
       "['cats', 'DOGS', 'horses', 'SHEEP']"
      ]
     },
     "execution_count": 30,
     "metadata": {},
     "output_type": "execute_result"
    }
   ],
   "source": [
    "# sort by lowercase\n",
    "sorted(my_list, key=str.lower)"
   ]
  },
  {
   "cell_type": "code",
   "execution_count": 31,
   "metadata": {},
   "outputs": [
    {
     "name": "stdout",
     "output_type": "stream",
     "text": [
      "square = [4, 25, 81, 1]\n",
      "large = [5, 9]\n"
     ]
    }
   ],
   "source": [
    "#list comprehension [expr for var in list]\n",
    "my_list=[2,5,9,1]\n",
    "square = [x**2 for x in my_list]; print(\"square =\", square)\n",
    "large = [n for n in my_list if n >= 5]; print('large =',large)"
   ]
  },
  {
   "cell_type": "markdown",
   "metadata": {},
   "source": [
    "<a id='tuple'></a>\n",
    "## Tuples\n",
    "* Not immutable\n",
    "* Why Tuple?\n",
    "* Processed faster than lists\n",
    "* Sequence of a Tuple is protected\n",
    "* Sequence unpacking\n",
    "[top](#top1)  "
   ]
  },
  {
   "cell_type": "code",
   "execution_count": 32,
   "metadata": {},
   "outputs": [
    {
     "name": "stdout",
     "output_type": "stream",
     "text": [
      "(2, 8, 3, 1)\n",
      "2 8 3 1\n"
     ]
    }
   ],
   "source": [
    "my_tup = (2, 8, 3, 1)\n",
    "print(my_tup)\n",
    "a,b,c,d = my_tup\n",
    "print(a, b, c, d)\n"
   ]
  },
  {
   "cell_type": "code",
   "execution_count": 33,
   "metadata": {},
   "outputs": [
    {
     "name": "stdout",
     "output_type": "stream",
     "text": [
      "2\n"
     ]
    }
   ],
   "source": [
    "print(my_tup[0])"
   ]
  },
  {
   "cell_type": "markdown",
   "metadata": {},
   "source": [
    "<a id='dic'></a>\n",
    "## Dictionaries\n",
    "* List of key-value pairs { }\n",
    "* Unordered collections of objects, not indexed\n",
    "* Store objects in a random order to provide faster lookup\n",
    "* Data type are heterogeneous, unlike list\n",
    "* Element are accessed by a keyword, not index\n",
    "* Elements are mutable \n",
    "* dict = {\"key1”: value1,  “key2”: value2} "
   ]
  },
  {
   "cell_type": "code",
   "execution_count": 34,
   "metadata": {},
   "outputs": [
    {
     "name": "stdout",
     "output_type": "stream",
     "text": [
      "{'cats': 4, 'dogs': 2, 'sheep': 3}\n"
     ]
    }
   ],
   "source": [
    "my_dict = {'cats': 4, 'dogs':2, 'sheep':3}\n",
    "print(my_dict)"
   ]
  },
  {
   "cell_type": "code",
   "execution_count": 35,
   "metadata": {},
   "outputs": [
    {
     "name": "stdout",
     "output_type": "stream",
     "text": [
      "4\n"
     ]
    }
   ],
   "source": [
    "print(my_dict[\"cats\"])"
   ]
  },
  {
   "cell_type": "code",
   "execution_count": 36,
   "metadata": {},
   "outputs": [
    {
     "name": "stdout",
     "output_type": "stream",
     "text": [
      "['cats', 'dogs', 'horse', 'sheep']\n"
     ]
    }
   ],
   "source": [
    "my_dict['horse'] = 3; print(sorted(my_dict))"
   ]
  },
  {
   "cell_type": "code",
   "execution_count": 37,
   "metadata": {},
   "outputs": [
    {
     "name": "stdout",
     "output_type": "stream",
     "text": [
      "dict_keys(['cats', 'dogs', 'sheep', 'horse'])\n",
      "dict_values([4, 2, 3, 3])\n",
      "[2, 3, 3, 4]\n"
     ]
    }
   ],
   "source": [
    "print(my_dict.keys()); print(my_dict.values())\n",
    "print(sorted(my_dict.values()))\n"
   ]
  },
  {
   "cell_type": "code",
   "execution_count": 38,
   "metadata": {},
   "outputs": [
    {
     "name": "stdout",
     "output_type": "stream",
     "text": [
      "cats 4\n",
      "dogs 2\n",
      "sheep 3\n",
      "horse 3\n"
     ]
    }
   ],
   "source": [
    "for key, value in my_dict.items():\n",
    "    print(key, value)"
   ]
  },
  {
   "cell_type": "markdown",
   "metadata": {},
   "source": [
    "<a id='file'></a> \n",
    "## Files  \n",
    "* file open, close, read, write\n",
    "* file_handle = open(“file_name”, ‘mode’)\n",
    "    * Modes: \n",
    "    * a: append\n",
    "    * r: read only (error if not existing)\n",
    "    * w: write only\n",
    "    * r+: read/write (error if not existing)\n",
    "    * w+: read/write\n",
    "    * b: binary\n",
    "* Python has a built-in garbage collector\n",
    "* Object memory space is auto reclaimed once a file is no longer in use \n",
    " \n",
    "[top](#top1)  "
   ]
  },
  {
   "cell_type": "code",
   "execution_count": null,
   "metadata": {},
   "outputs": [],
   "source": [
    "# read a file\n",
    "#!ls -l\n",
    "#!head  -4 data.txt\n",
    "input = open(\"stock.dat\", 'r')\n",
    "content = input.read()\n",
    "input.close()\n",
    "print(content)"
   ]
  },
  {
   "cell_type": "code",
   "execution_count": null,
   "metadata": {},
   "outputs": [],
   "source": [
    "#write to a file\n",
    "output = open('write.txt','w')\n",
    "output.write(\"Writing to a file\")\n",
    "output.close()\n",
    "!ls -l\n"
   ]
  },
  {
   "cell_type": "markdown",
   "metadata": {},
   "source": [
    "<a id='control'></a>\n",
    "## Control Structures \n",
    "\n",
    "    * if-else\n",
    "    * for loops, while loops\n",
    "    * break: jump out of the current loop\n",
    "    * continue: jump to the top of next cycle within the loop\n",
    "    * pass: do nothing \n",
    " \n"
   ]
  },
  {
   "cell_type": "code",
   "execution_count": 11,
   "metadata": {},
   "outputs": [
    {
     "name": "stdout",
     "output_type": "stream",
     "text": [
      "500 > 5\n",
      "Hi, greater than 5\n"
     ]
    }
   ],
   "source": [
    "x = 500 #input(\"Please enter a number\")\n",
    "if ( x >= 5 ):\n",
    "  print(x,\"> 5\")\n",
    "  print(\"Hi, greater than 5\")\n",
    "else:\n",
    "    print(x, \"< 5\")\n",
    "    "
   ]
  },
  {
   "cell_type": "code",
   "execution_count": 62,
   "metadata": {},
   "outputs": [
    {
     "name": "stdout",
     "output_type": "stream",
     "text": [
      "0\n",
      "1\n",
      "2\n"
     ]
    }
   ],
   "source": [
    "\n",
    "for num in range(3):\n",
    "    print(num)"
   ]
  },
  {
   "cell_type": "code",
   "execution_count": 65,
   "metadata": {},
   "outputs": [
    {
     "name": "stdout",
     "output_type": "stream",
     "text": [
      "0\n",
      "2\n"
     ]
    }
   ],
   "source": [
    "index=0\n",
    "while (index < 3):\n",
    "    print(index)\n",
    "    index = index + 2"
   ]
  },
  {
   "cell_type": "markdown",
   "metadata": {},
   "source": [
    "<div class='alert alert-block alert-danger'>  Tip: <div>\n",
    "Indentation: signify code blocks  <div>"
   ]
  },
  {
   "cell_type": "markdown",
   "metadata": {},
   "source": [
    "More on loops:\n",
    "\n",
    "* continue: returns the control to the beginning of loop\n",
    "* break: bring the control out of loop"
   ]
  },
  {
   "cell_type": "code",
   "execution_count": 1,
   "metadata": {},
   "outputs": [
    {
     "name": "stdout",
     "output_type": "stream",
     "text": [
      "[2, 3, 5, 7, 11, 13, 17, 19]\n"
     ]
    }
   ],
   "source": [
    "# Initialize a list\n",
    "primes = []\n",
    "for possiblePrime in range(2, 21):\n",
    "\n",
    "   # Assume number is prime until shown it is not.\n",
    "   isPrime = True\n",
    "   for num in range(2, possiblePrime):\n",
    "       if possiblePrime % num == 0:\n",
    "           isPrime = False\n",
    "           break\n",
    "\n",
    "   if isPrime:\n",
    "       primes.append(possiblePrime)\n",
    "\n",
    "print(primes)"
   ]
  },
  {
   "cell_type": "markdown",
   "metadata": {},
   "source": [
    "<a id='module'> </a>\n",
    "## Functions\n",
    "def func_name(par1, par2,...): \n",
    "> body of code\n",
    " \n",
    " [top](#top)    \n",
    "    "
   ]
  },
  {
   "cell_type": "code",
   "execution_count": 68,
   "metadata": {},
   "outputs": [
    {
     "name": "stdout",
     "output_type": "stream",
     "text": [
      "11\n"
     ]
    }
   ],
   "source": [
    "#addition\n",
    "def my_add(x, y):\n",
    "    return x+y\n",
    "\n",
    "sum=my_add(3, 8); print(sum)"
   ]
  },
  {
   "cell_type": "code",
   "execution_count": 70,
   "metadata": {},
   "outputs": [
    {
     "name": "stdout",
     "output_type": "stream",
     "text": [
      "squre = 9 cube = 27\n"
     ]
    }
   ],
   "source": [
    "#return multiple values\n",
    "def power(input):\n",
    "    return input**2, input**3\n",
    "\n",
    "square, cube = power(3)\n",
    "print(\"squre =\",square, \"cube =\",cube)"
   ]
  },
  {
   "cell_type": "markdown",
   "metadata": {},
   "source": [
    "<a id='module'> </a>\n",
    "## Python Module\n",
    "* A python script with python functions and statements\n",
    "* Import a module before having access to all the functions within\n",
    "* Most Python distributions come with plenty of build-in modules \n",
    "***\n",
    " [top](#top)"
   ]
  },
  {
   "cell_type": "markdown",
   "metadata": {},
   "source": [
    "\n",
    "## Python Modules\n",
    "* math, sys, os..\n",
    "* NumPy, high performance in vector & matrix using vector computation \n",
    "* SciPy: based on Numpy, including many scientific algorithms.\n",
    "* padas\n",
    "* matplotlib, pyplot, pylab\n",
    "\n",
    "Reference to [Python3.x standard libraries](https://docs.python.org/3/library/) \n"
   ]
  },
  {
   "cell_type": "code",
   "execution_count": 2,
   "metadata": {},
   "outputs": [
    {
     "data": {
      "text/plain": [
       "1.2246467991473532e-16"
      ]
     },
     "execution_count": 2,
     "metadata": {},
     "output_type": "execute_result"
    }
   ],
   "source": [
    "#import a module\n",
    "import math\n",
    "math.sin(math.pi)"
   ]
  },
  {
   "cell_type": "code",
   "execution_count": null,
   "metadata": {},
   "outputs": [],
   "source": [
    "#get information of a module\n",
    "dir(math)"
   ]
  },
  {
   "cell_type": "code",
   "execution_count": null,
   "metadata": {
    "raw_mimetype": "text/x-python"
   },
   "outputs": [],
   "source": [
    "# get information of a module function \n",
    "help(range)"
   ]
  },
  {
   "cell_type": "markdown",
   "metadata": {},
   "source": [
    " * Examples using os, commands modules\n",
    " * os: includes functions interacting with the file system \n"
   ]
  },
  {
   "cell_type": "code",
   "execution_count": 12,
   "metadata": {},
   "outputs": [
    {
     "name": "stdout",
     "output_type": "stream",
     "text": [
      ".wwgetfiles_timestamp\n",
      "/tmp/.wwgetfiles_timestamp\n",
      "lost+found\n",
      "/tmp/lost+found\n",
      "systemd-private-fbcac164965343c082a004e32f6c4f8c-chronyd.service-Ln3XwB\n",
      "/tmp/systemd-private-fbcac164965343c082a004e32f6c4f8c-chronyd.service-Ln3XwB\n"
     ]
    }
   ],
   "source": [
    "import os\n",
    "def display_dir(dir):\n",
    "      files = os.listdir(dir)\n",
    "      for fname in files:\n",
    "        print(fname)\n",
    "        print(os.path.abspath(os.path.join(dir, fname))) \n",
    "\n",
    "display_dir('/tmp')"
   ]
  },
  {
   "cell_type": "markdown",
   "metadata": {},
   "source": [
    "<a id='numpy'> </a>\n",
    "## Numpy\n",
    "* [Create arrays](#array)\n",
    "* [Properties](#prop)\n",
    "* [File I/O](#file)\n",
    "* [Operations](#op)\n",
    "\n",
    " [top](#top1)\n",
    " [next](#plot)"
   ]
  },
  {
   "cell_type": "markdown",
   "metadata": {},
   "source": [
    "* Provide basic functions for large arrays and matrices\n",
    "* A Python library that provides a multidimensional array object\n",
    "* Fast operations on arrays\n",
    "  * mathematical, logical, shape manipulation \n",
    "  * sorting, selecting, I/O\n",
    "  * discrete Fourier transforms, basic linear algebra\n",
    "  * basic statistical operations\n",
    "  * random simulation and much more."
   ]
  },
  {
   "cell_type": "code",
   "execution_count": 5,
   "metadata": {},
   "outputs": [
    {
     "name": "stdout",
     "output_type": "stream",
     "text": [
      "a [4 5 6 7]\n",
      "b [-1  0  1  2]\n",
      "a+b [3 5 7 9]\n",
      "a*b [-4  0  6 14]\n"
     ]
    }
   ],
   "source": [
    "import numpy as np\n",
    "a = np.array([4,5,6,7])\n",
    "b = np.array(range(-1, 3, 1))\n",
    "print(\"a\",a)\n",
    "print(\"b\",b)\n",
    "print(\"a+b\", a+b)\n",
    "print('a*b', a*b)\n"
   ]
  },
  {
   "cell_type": "markdown",
   "metadata": {},
   "source": [
    "<a id='array'></a>\n",
    "### Create Arrays"
   ]
  },
  {
   "cell_type": "code",
   "execution_count": 6,
   "metadata": {},
   "outputs": [
    {
     "name": "stdout",
     "output_type": "stream",
     "text": [
      "a [2 3 4]\n",
      "arange [4 6 8]\n",
      "linspace [1.         1.44444444 1.88888889 2.33333333 2.77777778 3.22222222\n",
      " 3.66666667 4.11111111 4.55555556 5.        ]\n",
      "logspace [2.00000000e+00 5.64316032e+07 1.59226292e+15 4.49269746e+22\n",
      " 1.26765060e+30]\n",
      "[[1. 0. 0. 0.]\n",
      " [0. 1. 0. 0.]\n",
      " [0. 0. 1. 0.]\n",
      " [0. 0. 0. 1.]]\n",
      "c [[0. 0. 0.]\n",
      " [0. 0. 0.]]\n",
      "d [[1. 1. 1. 1. 1.]\n",
      " [1. 1. 1. 1. 1.]]\n",
      "[0 0 0]\n",
      "[1 1 1]\n"
     ]
    }
   ],
   "source": [
    "# create array from a list\n",
    "a = np.array([2,3,4]); print('a', a)\n",
    "\n",
    "# arange [start, stop, interval, datatype]\n",
    "b=np.arange(4, 10.0, 2, np.int64); print(\"arange\",b)\n",
    "\n",
    "# linspace including both ends {start, stop, num=50, endpoint=True}\n",
    "c=np.linspace(1,5, 10); print('linspace',c)\n",
    "\n",
    "# create array on log scale {start, stop, num=50, endpoint=True, base=10}\n",
    "d=np.logspace(1,100, 5, base=2); print('logspace',d)\n",
    "\n",
    "# create a square array with ones on the main diagonal\n",
    "y=np.identity(4); print(y)\n",
    "\n",
    "# Initialize w/ 0s or 1s\n",
    "c = np.zeros((2,3)); print(\"c\",c)\n",
    "d = np.ones((2, 5)); print(\"d\", d); \n",
    "a.fill(0); print(a)\n",
    "a[:] = 1; print(a)\n"
   ]
  },
  {
   "cell_type": "markdown",
   "metadata": {},
   "source": [
    "<a id='prop'></a>\n",
    "### Numpy array properties"
   ]
  },
  {
   "cell_type": "code",
   "execution_count": null,
   "metadata": {},
   "outputs": [],
   "source": [
    "# numpy array properties\n",
    "print(a.dtype); print(a)\n",
    "print(a.shape)  # dimensions\n",
    "print(a.size)   # number of elements\n",
    "print(a.ndim)   # number of dimensions\n"
   ]
  },
  {
   "cell_type": "markdown",
   "metadata": {},
   "source": [
    "<a id='file'></a>\n",
    "### Numpy File I/O"
   ]
  },
  {
   "cell_type": "code",
   "execution_count": null,
   "metadata": {},
   "outputs": [],
   "source": [
    "!cat data.txt\n",
    "data2=np.genfromtxt('data.txt', skip_header=16, dtype=None, encoding=None)\n",
    "print(data2)\n",
    "#help(np.genfromtxt)"
   ]
  },
  {
   "cell_type": "code",
   "execution_count": null,
   "metadata": {},
   "outputs": [],
   "source": [
    "data3=np.loadtxt('data.txt', skiprows=16, usecols={0,1,2}, comments='#', dtype=None)\n",
    "print(data3)"
   ]
  },
  {
   "cell_type": "code",
   "execution_count": null,
   "metadata": {},
   "outputs": [],
   "source": [
    "#store and save arrays into a file\n",
    "m = np.random.rand(4,4); print(m)\n",
    "np.savetxt('random_m.csv', m, fmt='%.5f')\n",
    "!cat random_m.csv"
   ]
  },
  {
   "cell_type": "markdown",
   "metadata": {},
   "source": [
    "<a id='op'></a>\n",
    "### Numpy Operations"
   ]
  },
  {
   "cell_type": "code",
   "execution_count": null,
   "metadata": {},
   "outputs": [],
   "source": [
    "#reshape array structures\n",
    "a=np.arange(32); print(a); print(a.ndim); print(a.shape)\n",
    "b=a.reshape(4,-1)\n",
    "print(b); print(b.ndim); print(b.shape)\n",
    "b.flatten()"
   ]
  },
  {
   "cell_type": "code",
   "execution_count": null,
   "metadata": {},
   "outputs": [],
   "source": [
    "# Indexing from 0:N-1\n",
    "print(b.size); print(b); print(b.ndim)\n",
    "print(b[:,0])  # all the rows from 1st colume\n",
    "print(b[0,:])  # all the columes from 1st row\n",
    "print(b[0,0])"
   ]
  },
  {
   "cell_type": "code",
   "execution_count": 43,
   "metadata": {},
   "outputs": [
    {
     "name": "stdout",
     "output_type": "stream",
     "text": [
      "[1 2 3 4 5]\n",
      "[1 3 5]\n",
      "[4 5]\n",
      "[1 2 3]\n"
     ]
    }
   ],
   "source": [
    "# Slicing:to extract part of an array [lower:upper:step]\n",
    "A = np.array([1,2,3,4,5])\n",
    "print(A[::])\n",
    "print(A[::2])\n",
    "print(A[3:])  #element from index 3\n",
    "print(A[:3])  #first 3 elements"
   ]
  },
  {
   "cell_type": "code",
   "execution_count": null,
   "metadata": {},
   "outputs": [],
   "source": [
    "# Fancy nndexing: when an array/list is used in place of an index\n",
    "A=np.array([[n+m*10 for n in range(6)] for m in range(7)]); print(A)\n",
    "row_index=[1,2,3]\n",
    "A[row_index]\n"
   ]
  },
  {
   "cell_type": "code",
   "execution_count": 81,
   "metadata": {},
   "outputs": [
    {
     "data": {
      "text/plain": [
       "array([11, 22, 35])"
      ]
     },
     "execution_count": 81,
     "metadata": {},
     "output_type": "execute_result"
    }
   ],
   "source": [
    "col_index=[1,2,-1]\n",
    "A[row_index,col_index]"
   ]
  },
  {
   "cell_type": "code",
   "execution_count": null,
   "metadata": {},
   "outputs": [],
   "source": [
    "# Index mask\n",
    "B=np.array(range(4)); print(B)\n",
    "row_mask=np.array([True, True, False, False])\n",
    "B[row_mask]\n",
    "#row_mask2=np.array([1,1,0,0], dtype=bool)\n",
    "#B[row_mask2]"
   ]
  },
  {
   "cell_type": "markdown",
   "metadata": {},
   "source": [
    "#### Element-wise array operations"
   ]
  },
  {
   "cell_type": "code",
   "execution_count": null,
   "metadata": {},
   "outputs": [],
   "source": [
    "!head stock.dat\n",
    "\n",
    "import numpy as np\n",
    "data2=np.genfromtxt('stock.dat')\n",
    "#np.shape(data); print(data);print(data[:,3])\n",
    "#np.mean(data[:,3]) #temprature data\n"
   ]
  },
  {
   "cell_type": "code",
   "execution_count": 100,
   "metadata": {},
   "outputs": [
    {
     "data": {
      "text/plain": [
       "(4.301174258269478, 18.5001)"
      ]
     },
     "execution_count": 100,
     "metadata": {},
     "output_type": "execute_result"
    }
   ],
   "source": [
    "#standard deviation and variance\n",
    "np.std(data[:,3]), np.var(data[:,3])  "
   ]
  },
  {
   "cell_type": "code",
   "execution_count": null,
   "metadata": {},
   "outputs": [],
   "source": [
    "#min, max\n",
    "data[:,3].min()\n"
   ]
  },
  {
   "cell_type": "markdown",
   "metadata": {},
   "source": [
    "<a id='plot'> </a>\n",
    "## Python Plotting\n",
    " [top](#top1)"
   ]
  },
  {
   "cell_type": "markdown",
   "metadata": {},
   "source": [
    "* matplotlib: library for plotting 2D graphics\n",
    "* pyplot: a wrapper module to provide Matlab-style interface to matplotlib\n",
    "* pylab: numpy plus pyplot\n"
   ]
  },
  {
   "cell_type": "code",
   "execution_count": 16,
   "metadata": {},
   "outputs": [],
   "source": [
    "import matplotlib.pyplot as plt\n",
    "import numpy as np"
   ]
  },
  {
   "cell_type": "code",
   "execution_count": 17,
   "metadata": {},
   "outputs": [
    {
     "name": "stdout",
     "output_type": "stream",
     "text": [
      "[-3.14159265 -3.01336438 -2.88513611 -2.75690784 -2.62867957 -2.5004513\n",
      " -2.37222302 -2.24399475 -2.11576648 -1.98753821 -1.85930994 -1.73108167\n",
      " -1.60285339 -1.47462512 -1.34639685 -1.21816858 -1.08994031 -0.96171204\n",
      " -0.83348377 -0.70525549 -0.57702722 -0.44879895 -0.32057068 -0.19234241\n",
      " -0.06411414  0.06411414  0.19234241  0.32057068  0.44879895  0.57702722\n",
      "  0.70525549  0.83348377  0.96171204  1.08994031  1.21816858  1.34639685\n",
      "  1.47462512  1.60285339  1.73108167  1.85930994  1.98753821  2.11576648\n",
      "  2.24399475  2.37222302  2.5004513   2.62867957  2.75690784  2.88513611\n",
      "  3.01336438  3.14159265]\n"
     ]
    },
    {
     "data": {
      "image/png": "[encoded data removed]",
      "text/plain": [
       "<Figure size 432x288 with 1 Axes>"
      ]
     },
     "metadata": {
      "needs_background": "light"
     },
     "output_type": "display_data"
    }
   ],
   "source": [
    "# Line plot\n",
    "data=np.linspace(-np.pi, np.pi, 50); \n",
    "print(data)\n",
    "sin, cos =np.sin(data), np.cos(data)\n",
    "plt.plot(data, sin, 'b-*', data, cos,'r-s')\n",
    "plt.title(\"plot example\")\n",
    "plt.xlabel('x')\n",
    "plt.ylabel('sin/con')\n",
    "#figure legend\n",
    "plt.legend(['sin','cos'])\n",
    "plt.show()\n"
   ]
  },
  {
   "cell_type": "code",
   "execution_count": 6,
   "metadata": {},
   "outputs": [
    {
     "data": {
      "image/png": "[encoded data removed]",
      "text/plain": [
       "<matplotlib.figure.Figure at 0x2b8ec66a7550>"
      ]
     },
     "metadata": {},
     "output_type": "display_data"
    },
    {
     "data": {
      "image/png": "[encoded data removed]",
      "text/plain": [
       "<matplotlib.figure.Figure at 0x2b8ec6709630>"
      ]
     },
     "metadata": {},
     "output_type": "display_data"
    }
   ],
   "source": [
    "#plotting separate figures\n",
    "plt.figure()\n",
    "plt.plot(sin, 'r*', label='sin')\n",
    "plt.legend()\n",
    "#2nd figure\n",
    "plt.figure()\n",
    "plt.plot(cos, 'b+', label='cos')\n",
    "plt.legend()\n",
    "#plt.clf()\n",
    "plt.show()\n",
    "plt.close('all')\n"
   ]
  },
  {
   "cell_type": "code",
   "execution_count": 9,
   "metadata": {},
   "outputs": [
    {
     "data": {
      "image/png": "[encoded data removed]",
      "text/plain": [
       "<matplotlib.figure.Figure at 0x2b8ec6bffc50>"
      ]
     },
     "metadata": {},
     "output_type": "display_data"
    }
   ],
   "source": [
    "# subplot on the same figure\n",
    "# subplot(rows, columns, active_plot)\n",
    "plt.subplot(2,1,1)\n",
    "plt.plot(sin, 'r-+', label='sin')\n",
    "plt.legend()\n",
    "#2nd subplot\n",
    "plt.subplot(2,1,2)\n",
    "plt.plot(cos, 'b-o')\n",
    "#plt.close()\n",
    "plt.show()"
   ]
  },
  {
   "cell_type": "code",
   "execution_count": 34,
   "metadata": {},
   "outputs": [
    {
     "data": {
      "image/png": "[encoded data removed]",
      "text/plain": [
       "<Figure size 432x288 with 1 Axes>"
      ]
     },
     "metadata": {
      "needs_background": "light"
     },
     "output_type": "display_data"
    }
   ],
   "source": [
    "# Plot a bar chart\n",
    "import matplotlib.pyplot as plt\n",
    "import numpy as np\n",
    "\n",
    "xlables = ['January','February','March','April']\n",
    "xticks = [i for i in range(len(xlables))]\n",
    "y = [ 34, 17, 13, 69]\n",
    "e = [5.2, 10., 1.5, 12.]\n",
    "plt.errorbar(xlables, y, yerr=e, fmt='d', capsize=10)\n",
    "plt.bar(xlables, y, 0.5, color='red' )\n",
    "plt.title(\"Sale by Month\")\n",
    "plt.xlabel('Month')\n",
    "plt.ylabel('Sale')\n",
    "plt.xticks(xticks, xlables)\n",
    "\n",
    "plt.show()"
   ]
  },
  {
   "cell_type": "code",
   "execution_count": 36,
   "metadata": {},
   "outputs": [
    {
     "name": "stdout",
     "output_type": "stream",
     "text": [
      "[[-1.17096195  1.08395238  0.33121703 -0.95977451  0.25701258  0.76141996\n",
      "   0.26252893  0.78199146]\n",
      " [ 0.25874634 -0.20118117 -0.59056392 -0.1575423   0.58816339 -0.9843811\n",
      "   0.50898896 -0.90348704]\n",
      " [ 0.50944315 -0.92277928  0.19588357  0.1031545  -1.04967389  1.36211061\n",
      "  -0.28032887  1.02628685]\n",
      " [ 1.2830221  -0.85452323  0.2251681  -1.09244551 -1.32375385 -2.28639817\n",
      "  -0.85102054  0.3827102 ]\n",
      " [-2.10425082  0.61129621  0.33431403  1.88142088 -0.92442556 -0.45737278\n",
      "  -1.32058176 -0.55934957]]\n",
      "[-0.24480024 -0.05664702  0.09920376 -0.04503739 -0.49053547 -0.32092429\n",
      " -0.33608265  0.14563038]\n",
      "std: [1.2224578  0.7943295  0.34931374 1.0658018  0.76388069 1.2904229\n",
      " 0.67970433 0.75290932]\n"
     ]
    },
    {
     "data": {
      "image/png": "[encoded data removed]",
      "text/plain": [
       "<Figure size 432x288 with 1 Axes>"
      ]
     },
     "metadata": {
      "needs_background": "light"
     },
     "output_type": "display_data"
    }
   ],
   "source": [
    "import matplotlib.pyplot as plt\n",
    "import numpy as np\n",
    "a=[i for i in range(8)]\n",
    "x = np.random.randn(5, 8)\n",
    "mins = x.min(0)\n",
    "maxes = x.max(0)\n",
    "means = x.mean(0)\n",
    "std = x.std(0)\n",
    "print(x)\n",
    "print(means); print(\"std:\",std)\n",
    "plt.bar(a, means)\n",
    "plt.errorbar(a, means, yerr=std, fmt='v')\n",
    "#help(plt.errorbar)\n",
    "plt.show()"
   ]
  },
  {
   "cell_type": "code",
   "execution_count": 28,
   "metadata": {},
   "outputs": [
    {
     "name": "stdout",
     "output_type": "stream",
     "text": [
      "a= [0.00130663 0.         0.         0.         0.00130663 0.\n",
      " 0.00261326 0.00130663 0.         0.         0.00261326 0.00653316\n",
      " 0.00261326 0.00261326 0.01175968 0.01306632 0.01045305 0.00653316\n",
      " 0.00783979 0.02090611 0.02221274 0.024826   0.01567958 0.01829284\n",
      " 0.01306632 0.02351937 0.02351937 0.03005253 0.03005253 0.02743926\n",
      " 0.02221274 0.02090611 0.02743926 0.024826   0.024826   0.01829284\n",
      " 0.01437295 0.01567958 0.02090611 0.01437295 0.01959947 0.01437295\n",
      " 0.01567958 0.01698621 0.00522653 0.00130663 0.00783979 0.00653316\n",
      " 0.00391989 0.00391989]\n"
     ]
    },
    {
     "data": {
      "image/png": "[encoded data removed]",
      "text/plain": [
       "<Figure size 432x288 with 1 Axes>"
      ]
     },
     "metadata": {
      "needs_background": "light"
     },
     "output_type": "display_data"
    }
   ],
   "source": [
    "# Plot histograph\n",
    "import matplotlib\n",
    "import numpy as np\n",
    "import matplotlib.pyplot as plt\n",
    "\n",
    "np.random.seed(20)\n",
    "\n",
    "# example data\n",
    "mu = 100  # mean of distribution\n",
    "sigma = 15  # standard deviation of distribution\n",
    "x = mu + sigma * np.random.randn(474)\n",
    "#print(x)\n",
    "num_bins = 50\n",
    "\n",
    "fig, ax = plt.subplots()\n",
    "#help(plt.subplots)\n",
    "# the histogram of the data\n",
    "#help(ax.hist)\n",
    "a, bins, b = ax.hist(x, num_bins, density=1)\n",
    "print(\"a=\",a)\n",
    "# add a 'best fit' line\n",
    "y = ((1 / (np.sqrt(2 * np.pi) * sigma)) *\n",
    "     np.exp(-0.5 * (1 / sigma * (bins - mu))**2))\n",
    "\n",
    "ax.plot(bins, y, '--')\n",
    "ax.set_xlabel('Smarts')\n",
    "ax.set_ylabel('Probability density')\n",
    "ax.set_title(r'Histogram of IQ: $\\mu=100$, $\\sigma=15$')\n",
    "\n",
    "plt.show()"
   ]
  },
  {
   "cell_type": "code",
   "execution_count": 18,
   "metadata": {},
   "outputs": [
    {
     "name": "stdout",
     "output_type": "stream",
     "text": [
      "total 608\r\n",
      "-rw-r--r--  1 wfeinstein  staff   33201 Oct  9 06:39 DNA-Sequence-Solution.ipynb\r\n",
      "-rw-r--r--  1 wfeinstein  staff    9771 Oct  9 09:17 DNA-Sequence.ipynb\r\n",
      "-rw-r--r--  1 wfeinstein  staff    5750 Oct  8 17:32 DNA.fastq\r\n",
      "-rw-r--r--  1 wfeinstein  staff     630 Oct  9 10:25 data.txt\r\n",
      "-rw-r--r--  1 wfeinstein  staff  167160 Oct  9 10:28 intro-python.ipynb\r\n",
      "-rw-r--r--  1 wfeinstein  staff   72295 Oct  8 17:32 scan.png\r\n",
      "-rw-r--r--  1 wfeinstein  staff    7992 Oct  8 17:32 stock.dat\r\n"
     ]
    },
    {
     "data": {
      "text/plain": [
       "(-0.5, 639.5, 479.5, -0.5)"
      ]
     },
     "execution_count": 18,
     "metadata": {},
     "output_type": "execute_result"
    },
    {
     "data": {
      "image/png": "[encoded data removed]",
      "text/plain": [
       "<Figure size 432x288 with 1 Axes>"
      ]
     },
     "metadata": {
      "needs_background": "light"
     },
     "output_type": "display_data"
    }
   ],
   "source": [
    "# View an image\n",
    "!ls -l\n",
    "\n",
    "image = plt.imread('scan.png')\n",
    "\n",
    "fig, ax = plt.subplots()\n",
    "ax.imshow(image)\n",
    "ax.axis('off')  # clear x- and y-axes\n"
   ]
  }
 ],
 "metadata": {
  "celltoolbar": "Raw Cell Format",
  "kernelspec": {
   "display_name": "Python 3",
   "language": "python",
   "name": "python3"
  },
  "language_info": {
   "codemirror_mode": {
    "name": "ipython",
    "version": 3
   },
   "file_extension": ".py",
   "mimetype": "text/x-python",
   "name": "python",
   "nbconvert_exporter": "python",
   "pygments_lexer": "ipython3",
   "version": "3.7.0"
  }
 },
 "nbformat": 4,
 "nbformat_minor": 2
}
